{
  "nbformat": 4,
  "nbformat_minor": 0,
  "metadata": {
    "colab": {
      "provenance": []
    },
    "kernelspec": {
      "name": "python3",
      "display_name": "Python 3"
    },
    "language_info": {
      "name": "python"
    }
  },
  "cells": [
    {
      "cell_type": "code",
      "execution_count": null,
      "metadata": {
        "id": "N7d8c-Pvqhsf",
        "collapsed": true
      },
      "outputs": [],
      "source": [
        "import numpy as np\n",
        "\n",
        "# Load the embedding matrix from the saved file\n",
        "#embeddings = np.load(\"trained_embeddings.npy\")\n",
        "\n",
        "# Verify the loaded embeddings\n",
        "#print(\"Embedding matrix shape:\", embeddings.shape)"
      ]
    },
    {
      "cell_type": "code",
      "source": [
        "import pandas as pd\n",
        "df = pd.read_csv('spam_or_not_spam.csv')\n",
        "df.head()\n",
        "#print the first 5 rows\n",
        "# data cleaning\n",
        "\n",
        "def data_cleaning(df):\n",
        "  # remove Nan rows\n",
        "  df = df.dropna()\n",
        "  return df\n",
        "\n",
        "df= data_cleaning(df)\n",
        "df.head()\n",
        "\n",
        "def remove_duplicates(df):\n",
        "  df = df.drop_duplicates(subset=['email', 'label'])\n",
        "  return df\n",
        "\n",
        "df = remove_duplicates(df)\n",
        "df.head()\n",
        "\n",
        "#pre-processing\n",
        "import nltk as nl\n",
        "import re\n",
        "import string\n",
        "nl.download('stopwords')\n",
        "nl.download('wordnet')\n",
        "nl.download('punkt')\n",
        "nl.download('punkt_tab')\n",
        "!pip install contractions\n",
        "import contractions\n",
        "from nltk.corpus import stopwords\n",
        "from nltk.tokenize import word_tokenize\n",
        "\n",
        "def preprocess(df):\n",
        "  # convert to lowercase\n",
        "  df['email'] = df['email'].str.lower()\n",
        "  #handle words\n",
        "  df['email'] = df['email'].apply(lambda x: re.sub(r\"\\b(won)\\s+(t)\\b\", r\"\\1'\\2\", x))\n",
        "  df['email'] = df['email'].apply(lambda x: re.sub(r\"\\b(can)\\s+(t)\\b\", r\"\\1'\\2\", x))\n",
        "  df['email'] = df['email'].apply(lambda x: re.sub(r\"\\b(don)\\s+(t)\\b\", r\"\\1'\\2\", x))\n",
        "  #handle contractions\n",
        "  df['email'] = df['email'].apply(lambda x: contractions.fix(x))\n",
        "  # clean text : remove punctuation and digits\n",
        "  df['email'] = df['email'].apply(lambda x: re.sub(r'[^\\w\\s]', '', x))\n",
        "  # remove punctuation\n",
        "  df['email'] = df['email'].apply(lambda x: x.translate(str.maketrans('', '', string.punctuation)))\n",
        "  #remove stopwords\n",
        "  #stop_words = set(stopwords.words('english'))\n",
        "  #df['email'] = df['email'].apply(lambda x: ' '.join([word for word in x.split() if word not in (stop_words)]))\n",
        "  # tokenize\n",
        "  df['email'] = df['email'].apply(lambda x: nl.word_tokenize(x))\n",
        "  return df\n",
        "\n",
        "df = preprocess(df)\n",
        "df.head()\n",
        "\n",
        "#undersampling majority class\n",
        "from imblearn.under_sampling import RandomUnderSampler\n",
        "import pandas as pd\n",
        "\n",
        "def undersample_data(X, y):\n",
        "    rus = RandomUnderSampler(random_state=42)\n",
        "    # Reshape X to a 2D array with a single column\n",
        "    X_reshaped = X.values.reshape(-1, 1)\n",
        "    X_resampled, y_resampled = rus.fit_resample(X_reshaped, y)\n",
        "    return X_resampled, y_resampled\n",
        "\n",
        "X = df['email']\n",
        "y = df['label']\n",
        "X_resampled, y_resampled = undersample_data(X, y)\n",
        "df_resampled = pd.DataFrame({'email': X_resampled.flatten(), 'label': y_resampled})\n",
        "\n",
        "df_resampled.head()"
      ],
      "metadata": {
        "colab": {
          "base_uri": "https://localhost:8080/",
          "height": 414
        },
        "id": "KKPPWFavrL6I",
        "outputId": "47ea5070-59c9-4691-f404-ac9058c98622"
      },
      "execution_count": null,
      "outputs": [
        {
          "output_type": "stream",
          "name": "stderr",
          "text": [
            "[nltk_data] Downloading package stopwords to /root/nltk_data...\n",
            "[nltk_data]   Package stopwords is already up-to-date!\n",
            "[nltk_data] Downloading package wordnet to /root/nltk_data...\n",
            "[nltk_data]   Package wordnet is already up-to-date!\n",
            "[nltk_data] Downloading package punkt to /root/nltk_data...\n",
            "[nltk_data]   Package punkt is already up-to-date!\n",
            "[nltk_data] Downloading package punkt_tab to /root/nltk_data...\n",
            "[nltk_data]   Package punkt_tab is already up-to-date!\n"
          ]
        },
        {
          "output_type": "stream",
          "name": "stdout",
          "text": [
            "Requirement already satisfied: contractions in /usr/local/lib/python3.10/dist-packages (0.1.73)\n",
            "Requirement already satisfied: textsearch>=0.0.21 in /usr/local/lib/python3.10/dist-packages (from contractions) (0.0.24)\n",
            "Requirement already satisfied: anyascii in /usr/local/lib/python3.10/dist-packages (from textsearch>=0.0.21->contractions) (0.3.2)\n",
            "Requirement already satisfied: pyahocorasick in /usr/local/lib/python3.10/dist-packages (from textsearch>=0.0.21->contractions) (2.1.0)\n"
          ]
        },
        {
          "output_type": "execute_result",
          "data": {
            "text/plain": [
              "                                               email  label\n",
              "0  [is, there, a, way, to, tell, spamassassin, to...      0\n",
              "1  [url, url, date, not, supplied, some, of, the,...      0\n",
              "2  [url, url, date, number, number, numbertnumber...      0\n",
              "3  [heh, ten, years, ago, saying, the, exact, sam...      0\n",
              "4  [url, url, date, not, supplied, military, comm...      0"
            ],
            "text/html": [
              "\n",
              "  <div id=\"df-f4c89ba6-bf6f-497c-ae2f-1fe6de54b239\" class=\"colab-df-container\">\n",
              "    <div>\n",
              "<style scoped>\n",
              "    .dataframe tbody tr th:only-of-type {\n",
              "        vertical-align: middle;\n",
              "    }\n",
              "\n",
              "    .dataframe tbody tr th {\n",
              "        vertical-align: top;\n",
              "    }\n",
              "\n",
              "    .dataframe thead th {\n",
              "        text-align: right;\n",
              "    }\n",
              "</style>\n",
              "<table border=\"1\" class=\"dataframe\">\n",
              "  <thead>\n",
              "    <tr style=\"text-align: right;\">\n",
              "      <th></th>\n",
              "      <th>email</th>\n",
              "      <th>label</th>\n",
              "    </tr>\n",
              "  </thead>\n",
              "  <tbody>\n",
              "    <tr>\n",
              "      <th>0</th>\n",
              "      <td>[is, there, a, way, to, tell, spamassassin, to...</td>\n",
              "      <td>0</td>\n",
              "    </tr>\n",
              "    <tr>\n",
              "      <th>1</th>\n",
              "      <td>[url, url, date, not, supplied, some, of, the,...</td>\n",
              "      <td>0</td>\n",
              "    </tr>\n",
              "    <tr>\n",
              "      <th>2</th>\n",
              "      <td>[url, url, date, number, number, numbertnumber...</td>\n",
              "      <td>0</td>\n",
              "    </tr>\n",
              "    <tr>\n",
              "      <th>3</th>\n",
              "      <td>[heh, ten, years, ago, saying, the, exact, sam...</td>\n",
              "      <td>0</td>\n",
              "    </tr>\n",
              "    <tr>\n",
              "      <th>4</th>\n",
              "      <td>[url, url, date, not, supplied, military, comm...</td>\n",
              "      <td>0</td>\n",
              "    </tr>\n",
              "  </tbody>\n",
              "</table>\n",
              "</div>\n",
              "    <div class=\"colab-df-buttons\">\n",
              "\n",
              "  <div class=\"colab-df-container\">\n",
              "    <button class=\"colab-df-convert\" onclick=\"convertToInteractive('df-f4c89ba6-bf6f-497c-ae2f-1fe6de54b239')\"\n",
              "            title=\"Convert this dataframe to an interactive table.\"\n",
              "            style=\"display:none;\">\n",
              "\n",
              "  <svg xmlns=\"http://www.w3.org/2000/svg\" height=\"24px\" viewBox=\"0 -960 960 960\">\n",
              "    <path d=\"M120-120v-720h720v720H120Zm60-500h600v-160H180v160Zm220 220h160v-160H400v160Zm0 220h160v-160H400v160ZM180-400h160v-160H180v160Zm440 0h160v-160H620v160ZM180-180h160v-160H180v160Zm440 0h160v-160H620v160Z\"/>\n",
              "  </svg>\n",
              "    </button>\n",
              "\n",
              "  <style>\n",
              "    .colab-df-container {\n",
              "      display:flex;\n",
              "      gap: 12px;\n",
              "    }\n",
              "\n",
              "    .colab-df-convert {\n",
              "      background-color: #E8F0FE;\n",
              "      border: none;\n",
              "      border-radius: 50%;\n",
              "      cursor: pointer;\n",
              "      display: none;\n",
              "      fill: #1967D2;\n",
              "      height: 32px;\n",
              "      padding: 0 0 0 0;\n",
              "      width: 32px;\n",
              "    }\n",
              "\n",
              "    .colab-df-convert:hover {\n",
              "      background-color: #E2EBFA;\n",
              "      box-shadow: 0px 1px 2px rgba(60, 64, 67, 0.3), 0px 1px 3px 1px rgba(60, 64, 67, 0.15);\n",
              "      fill: #174EA6;\n",
              "    }\n",
              "\n",
              "    .colab-df-buttons div {\n",
              "      margin-bottom: 4px;\n",
              "    }\n",
              "\n",
              "    [theme=dark] .colab-df-convert {\n",
              "      background-color: #3B4455;\n",
              "      fill: #D2E3FC;\n",
              "    }\n",
              "\n",
              "    [theme=dark] .colab-df-convert:hover {\n",
              "      background-color: #434B5C;\n",
              "      box-shadow: 0px 1px 3px 1px rgba(0, 0, 0, 0.15);\n",
              "      filter: drop-shadow(0px 1px 2px rgba(0, 0, 0, 0.3));\n",
              "      fill: #FFFFFF;\n",
              "    }\n",
              "  </style>\n",
              "\n",
              "    <script>\n",
              "      const buttonEl =\n",
              "        document.querySelector('#df-f4c89ba6-bf6f-497c-ae2f-1fe6de54b239 button.colab-df-convert');\n",
              "      buttonEl.style.display =\n",
              "        google.colab.kernel.accessAllowed ? 'block' : 'none';\n",
              "\n",
              "      async function convertToInteractive(key) {\n",
              "        const element = document.querySelector('#df-f4c89ba6-bf6f-497c-ae2f-1fe6de54b239');\n",
              "        const dataTable =\n",
              "          await google.colab.kernel.invokeFunction('convertToInteractive',\n",
              "                                                    [key], {});\n",
              "        if (!dataTable) return;\n",
              "\n",
              "        const docLinkHtml = 'Like what you see? Visit the ' +\n",
              "          '<a target=\"_blank\" href=https://colab.research.google.com/notebooks/data_table.ipynb>data table notebook</a>'\n",
              "          + ' to learn more about interactive tables.';\n",
              "        element.innerHTML = '';\n",
              "        dataTable['output_type'] = 'display_data';\n",
              "        await google.colab.output.renderOutput(dataTable, element);\n",
              "        const docLink = document.createElement('div');\n",
              "        docLink.innerHTML = docLinkHtml;\n",
              "        element.appendChild(docLink);\n",
              "      }\n",
              "    </script>\n",
              "  </div>\n",
              "\n",
              "\n",
              "<div id=\"df-a76c5efb-12ad-41ec-b471-108e83d8cf6f\">\n",
              "  <button class=\"colab-df-quickchart\" onclick=\"quickchart('df-a76c5efb-12ad-41ec-b471-108e83d8cf6f')\"\n",
              "            title=\"Suggest charts\"\n",
              "            style=\"display:none;\">\n",
              "\n",
              "<svg xmlns=\"http://www.w3.org/2000/svg\" height=\"24px\"viewBox=\"0 0 24 24\"\n",
              "     width=\"24px\">\n",
              "    <g>\n",
              "        <path d=\"M19 3H5c-1.1 0-2 .9-2 2v14c0 1.1.9 2 2 2h14c1.1 0 2-.9 2-2V5c0-1.1-.9-2-2-2zM9 17H7v-7h2v7zm4 0h-2V7h2v10zm4 0h-2v-4h2v4z\"/>\n",
              "    </g>\n",
              "</svg>\n",
              "  </button>\n",
              "\n",
              "<style>\n",
              "  .colab-df-quickchart {\n",
              "      --bg-color: #E8F0FE;\n",
              "      --fill-color: #1967D2;\n",
              "      --hover-bg-color: #E2EBFA;\n",
              "      --hover-fill-color: #174EA6;\n",
              "      --disabled-fill-color: #AAA;\n",
              "      --disabled-bg-color: #DDD;\n",
              "  }\n",
              "\n",
              "  [theme=dark] .colab-df-quickchart {\n",
              "      --bg-color: #3B4455;\n",
              "      --fill-color: #D2E3FC;\n",
              "      --hover-bg-color: #434B5C;\n",
              "      --hover-fill-color: #FFFFFF;\n",
              "      --disabled-bg-color: #3B4455;\n",
              "      --disabled-fill-color: #666;\n",
              "  }\n",
              "\n",
              "  .colab-df-quickchart {\n",
              "    background-color: var(--bg-color);\n",
              "    border: none;\n",
              "    border-radius: 50%;\n",
              "    cursor: pointer;\n",
              "    display: none;\n",
              "    fill: var(--fill-color);\n",
              "    height: 32px;\n",
              "    padding: 0;\n",
              "    width: 32px;\n",
              "  }\n",
              "\n",
              "  .colab-df-quickchart:hover {\n",
              "    background-color: var(--hover-bg-color);\n",
              "    box-shadow: 0 1px 2px rgba(60, 64, 67, 0.3), 0 1px 3px 1px rgba(60, 64, 67, 0.15);\n",
              "    fill: var(--button-hover-fill-color);\n",
              "  }\n",
              "\n",
              "  .colab-df-quickchart-complete:disabled,\n",
              "  .colab-df-quickchart-complete:disabled:hover {\n",
              "    background-color: var(--disabled-bg-color);\n",
              "    fill: var(--disabled-fill-color);\n",
              "    box-shadow: none;\n",
              "  }\n",
              "\n",
              "  .colab-df-spinner {\n",
              "    border: 2px solid var(--fill-color);\n",
              "    border-color: transparent;\n",
              "    border-bottom-color: var(--fill-color);\n",
              "    animation:\n",
              "      spin 1s steps(1) infinite;\n",
              "  }\n",
              "\n",
              "  @keyframes spin {\n",
              "    0% {\n",
              "      border-color: transparent;\n",
              "      border-bottom-color: var(--fill-color);\n",
              "      border-left-color: var(--fill-color);\n",
              "    }\n",
              "    20% {\n",
              "      border-color: transparent;\n",
              "      border-left-color: var(--fill-color);\n",
              "      border-top-color: var(--fill-color);\n",
              "    }\n",
              "    30% {\n",
              "      border-color: transparent;\n",
              "      border-left-color: var(--fill-color);\n",
              "      border-top-color: var(--fill-color);\n",
              "      border-right-color: var(--fill-color);\n",
              "    }\n",
              "    40% {\n",
              "      border-color: transparent;\n",
              "      border-right-color: var(--fill-color);\n",
              "      border-top-color: var(--fill-color);\n",
              "    }\n",
              "    60% {\n",
              "      border-color: transparent;\n",
              "      border-right-color: var(--fill-color);\n",
              "    }\n",
              "    80% {\n",
              "      border-color: transparent;\n",
              "      border-right-color: var(--fill-color);\n",
              "      border-bottom-color: var(--fill-color);\n",
              "    }\n",
              "    90% {\n",
              "      border-color: transparent;\n",
              "      border-bottom-color: var(--fill-color);\n",
              "    }\n",
              "  }\n",
              "</style>\n",
              "\n",
              "  <script>\n",
              "    async function quickchart(key) {\n",
              "      const quickchartButtonEl =\n",
              "        document.querySelector('#' + key + ' button');\n",
              "      quickchartButtonEl.disabled = true;  // To prevent multiple clicks.\n",
              "      quickchartButtonEl.classList.add('colab-df-spinner');\n",
              "      try {\n",
              "        const charts = await google.colab.kernel.invokeFunction(\n",
              "            'suggestCharts', [key], {});\n",
              "      } catch (error) {\n",
              "        console.error('Error during call to suggestCharts:', error);\n",
              "      }\n",
              "      quickchartButtonEl.classList.remove('colab-df-spinner');\n",
              "      quickchartButtonEl.classList.add('colab-df-quickchart-complete');\n",
              "    }\n",
              "    (() => {\n",
              "      let quickchartButtonEl =\n",
              "        document.querySelector('#df-a76c5efb-12ad-41ec-b471-108e83d8cf6f button');\n",
              "      quickchartButtonEl.style.display =\n",
              "        google.colab.kernel.accessAllowed ? 'block' : 'none';\n",
              "    })();\n",
              "  </script>\n",
              "</div>\n",
              "\n",
              "    </div>\n",
              "  </div>\n"
            ],
            "application/vnd.google.colaboratory.intrinsic+json": {
              "type": "dataframe",
              "variable_name": "df_resampled",
              "summary": "{\n  \"name\": \"df_resampled\",\n  \"rows\": 854,\n  \"fields\": [\n    {\n      \"column\": \"email\",\n      \"properties\": {\n        \"dtype\": \"object\",\n        \"semantic_type\": \"\",\n        \"description\": \"\"\n      }\n    },\n    {\n      \"column\": \"label\",\n      \"properties\": {\n        \"dtype\": \"number\",\n        \"std\": 0,\n        \"min\": 0,\n        \"max\": 1,\n        \"num_unique_values\": 2,\n        \"samples\": [\n          1,\n          0\n        ],\n        \"semantic_type\": \"\",\n        \"description\": \"\"\n      }\n    }\n  ]\n}"
            }
          },
          "metadata": {},
          "execution_count": 31
        }
      ]
    },
    {
      "cell_type": "code",
      "source": [
        "from gensim.models import Word2Vec\n",
        "\n",
        "tokenized_corpus = df_resampled['email']\n",
        "word2vec_model = Word2Vec(\n",
        "    sentences=tokenized_corpus,\n",
        "    vector_size=10,\n",
        "    window=5,\n",
        "    min_count=1,\n",
        "    sg=1,\n",
        "    workers=4,\n",
        "    epochs=10\n",
        ")\n",
        "\n",
        "word2vec_model.save(\"word2vec_spam_model.model\")"
      ],
      "metadata": {
        "id": "nPM-Z9Dui3Lr"
      },
      "execution_count": null,
      "outputs": []
    },
    {
      "cell_type": "code",
      "source": [
        "word_vector = word2vec_model.wv['spam']\n",
        "print(word_vector)\n",
        "\n",
        "similar_words = word2vec_model.wv.most_similar('spam', topn=10)\n",
        "print(similar_words)"
      ],
      "metadata": {
        "colab": {
          "base_uri": "https://localhost:8080/"
        },
        "id": "rpxWzHbjjVi2",
        "outputId": "4e4f0cd7-fd83-446d-b5f8-484cea4db505"
      },
      "execution_count": null,
      "outputs": [
        {
          "output_type": "stream",
          "name": "stdout",
          "text": [
            "[-0.28711832 -1.0910394  -0.07210005  0.6793645   0.03571082  0.60945326\n",
            "  0.8817562   1.5711453  -0.5863168  -0.46258488]\n",
            "[('viewing', 0.9828166961669922), ('afternoon', 0.9660806059837341), ('mailer', 0.9627283215522766), ('goodbye', 0.9621891379356384), ('bottom', 0.9492372274398804), ('host', 0.9484949707984924), ('recommended', 0.9480544328689575), ('positive', 0.9476650953292847), ('comfortably', 0.9457060098648071), ('filter', 0.9451686143875122)]\n"
          ]
        }
      ]
    },
    {
      "cell_type": "code",
      "source": [
        "def get_embedding(sentence, model, num_words=12, embedding_size=10):\n",
        "    embeddings = []\n",
        "    for word in sentence:\n",
        "        if word in model.wv:\n",
        "            embeddings.append(model.wv[word])\n",
        "        if len(embeddings) == num_words:\n",
        "            break\n",
        "\n",
        "\n",
        "    while len(embeddings) < num_words:\n",
        "        embeddings.append(np.zeros(embedding_size))\n",
        "\n",
        "    return np.concatenate(embeddings)\n",
        "\n",
        "embedding_size = 10\n",
        "num_words = 12\n",
        "\n",
        "X_train = np.array([get_embedding(sentence, word2vec_model, num_words, embedding_size) for sentence in df_resampled['email']])\n",
        "Y_train = np.array(df_resampled['label']).reshape(1,-1)\n",
        "\n",
        "print(\"X_train shape:\", X_train.shape)\n",
        "print(\"Y_train shape:\", Y_train.shape)\n"
      ],
      "metadata": {
        "colab": {
          "base_uri": "https://localhost:8080/"
        },
        "id": "CMNi7KYeqXP6",
        "outputId": "175713e6-b35f-4529-8057-3d51a0126989"
      },
      "execution_count": null,
      "outputs": [
        {
          "output_type": "stream",
          "name": "stdout",
          "text": [
            "X_train shape: (854, 120)\n",
            "Y_train shape: (1, 854)\n"
          ]
        }
      ]
    },
    {
      "cell_type": "markdown",
      "source": [
        "#Neural Network\n"
      ],
      "metadata": {
        "id": "Jtb1tX86t6Ef"
      }
    },
    {
      "cell_type": "code",
      "source": [
        "def train(X, Y, input_size, hidden_size1, hidden_size2, output_size, epochs, learning_rate):\n",
        "    # Initialize weights and biases for two-layer neural network\n",
        "    W1 = np.random.randn(input_size, hidden_size1) * np.sqrt(2 / input_size)\n",
        "    W2 = np.random.randn(hidden_size1, hidden_size2) * np.sqrt(2 / hidden_size1)\n",
        "    W3 = np.random.randn(hidden_size2, output_size) * np.sqrt(2 / hidden_size2)\n",
        "    b1 = np.zeros((hidden_size1, 1))\n",
        "    b2 = np.zeros((hidden_size2, 1))\n",
        "    b3 = np.zeros((output_size, 1))*0.1\n",
        "\n",
        "    for epoch in range(epochs):\n",
        "        # Forward pass\n",
        "        Z1 = np.dot(W1.T, X) + b1\n",
        "        A1 = np.maximum(0, Z1)  # ReLU activation\n",
        "        Z2 = np.dot(W2.T, A1) + b2\n",
        "        A2 = np.maximum(0, Z2)  # ReLU activation\n",
        "        Z3 = np.dot(W3.T, A2) + b3\n",
        "        A3 = 1 / (1 + np.exp(-Z3))  # Sigmoid activation\n",
        "\n",
        "        # Compute loss (binary cross-entropy)\n",
        "        loss = -np.mean(Y * np.log(A3.T) + (1 - Y) * np.log(1 - A3.T))\n",
        "\n",
        "        # Backward pass\n",
        "        dZ3 = A3 - Y.reshape(1, -1)\n",
        "        dW3 = np.dot(A2, dZ3.T) / X.shape[1]\n",
        "        db3 = np.sum(dZ3, axis=1, keepdims=True) / X.shape[1]\n",
        "\n",
        "        dZ2 = np.dot(W3, dZ3) * (Z2 > 0)\n",
        "        dW2 = np.dot(A1, dZ2.T) / X.shape[1]\n",
        "        db2 = np.sum(dZ2, axis=1, keepdims=True) / X.shape[1]\n",
        "\n",
        "        dZ1 = np.dot(W2, dZ2) * (Z1 > 0)\n",
        "        dW1 = np.dot(X, dZ1.T) / X.shape[1]\n",
        "        db1 = np.sum(dZ1, axis=1, keepdims=True) / X.shape[1]\n",
        "\n",
        "        # Update weights and biases\n",
        "        W3 -= learning_rate * dW3\n",
        "        b3 -= learning_rate * db3\n",
        "        W2 -= learning_rate * dW2\n",
        "        b2 -= learning_rate * db2\n",
        "        W1 -= learning_rate * dW1\n",
        "        b1 -= learning_rate * db1\n",
        "\n",
        "        if epoch % 100 == 0:\n",
        "            print(f\"Epoch {epoch}, Loss: {loss}\")\n",
        "\n",
        "    return {\"W1\": W1, \"b1\": b1, \"W2\": W2, \"b2\": b2, \"W3\": W3, \"b3\": b3}"
      ],
      "metadata": {
        "id": "sZ_Wra5OzOM7"
      },
      "execution_count": null,
      "outputs": []
    },
    {
      "cell_type": "code",
      "source": [
        "trained_params = train(\n",
        "    X_train.T,  # Transpose for shape (input_size, num_sentences)\n",
        "    Y_train.T,    # Labels\n",
        "    input_size= num_words * embedding_size,\n",
        "    hidden_size1=8,\n",
        "    hidden_size2=8,\n",
        "    output_size=1,\n",
        "    epochs=1000,\n",
        "    learning_rate=0.1\n",
        ")"
      ],
      "metadata": {
        "colab": {
          "base_uri": "https://localhost:8080/"
        },
        "id": "QPmQ7gU4vSmP",
        "outputId": "bc1b1269-ef58-47ff-d569-b43cc8f1cf35"
      },
      "execution_count": null,
      "outputs": [
        {
          "output_type": "stream",
          "name": "stdout",
          "text": [
            "Epoch 0, Loss: 0.7382679190563527\n",
            "Epoch 100, Loss: 0.24274112303467213\n",
            "Epoch 200, Loss: 0.2029462297163866\n",
            "Epoch 300, Loss: 0.16853156834469676\n",
            "Epoch 400, Loss: 0.13001474985053488\n",
            "Epoch 500, Loss: 0.07695092922122215\n",
            "Epoch 600, Loss: 0.0662130751023073\n",
            "Epoch 700, Loss: 0.040627229474889344\n",
            "Epoch 800, Loss: 0.03038039150698382\n",
            "Epoch 900, Loss: 0.023811810921326997\n"
          ]
        }
      ]
    },
    {
      "cell_type": "markdown",
      "source": [
        "#Prediction and Evaluation"
      ],
      "metadata": {
        "id": "7rGIU0IX2tOJ"
      }
    },
    {
      "cell_type": "code",
      "source": [
        "def predict(X, params):\n",
        "    W1, b1 = params[\"W1\"], params[\"b1\"]\n",
        "    W2, b2 = params[\"W2\"], params[\"b2\"]\n",
        "    W3, b3 = params[\"W3\"], params[\"b3\"]\n",
        "\n",
        "    # Forward pass\n",
        "    Z1 = np.dot(W1.T, X) + b1\n",
        "    A1 = np.maximum(0, Z1)  # ReLU activation\n",
        "    Z2 = np.dot(W2.T, A1) + b2\n",
        "    A2 = np.maximum(0, Z2)  # ReLU activation\n",
        "    Z3 = np.dot(W3.T, A2) + b3\n",
        "    A3 = 1 / (1 + np.exp(-Z3))  # Sigmoid activation\n",
        "\n",
        "    return A3"
      ],
      "metadata": {
        "id": "NeSIKRZlvIFP"
      },
      "execution_count": null,
      "outputs": []
    },
    {
      "cell_type": "code",
      "source": [
        "probabilities = predict(X_train.T, trained_params)\n",
        "\n",
        "threshold = 0.5\n",
        "predictions = (probabilities > threshold).astype(int).flatten()"
      ],
      "metadata": {
        "id": "OQihdxP12_XT"
      },
      "execution_count": null,
      "outputs": []
    },
    {
      "cell_type": "code",
      "source": [
        "# visualize confusion matrix\n",
        "!pip install matplotlib seaborn\n",
        "import matplotlib.pyplot as plt\n",
        "import seaborn as sns\n",
        "from sklearn.metrics import confusion_matrix\n",
        "\n",
        "\n",
        "#evaluate the model\n",
        "def calculate_metrics(y_true, y_pred):\n",
        "    TP = TN = FP = FN = 0\n",
        "\n",
        "    # populate confusion matrix\n",
        "    for true, pred in zip(y_true, y_pred):\n",
        "        if true == 1 and pred == 1:\n",
        "            TP += 1\n",
        "        elif true == 0 and pred == 0:\n",
        "            TN += 1\n",
        "        elif true == 0 and pred == 1:\n",
        "            FP += 1\n",
        "        elif true == 1 and pred == 0:\n",
        "            FN += 1\n",
        "\n",
        "    # Calculate Accuracy\n",
        "    accuracy = (TP + TN) / (TP + TN + FP + FN)\n",
        "\n",
        "    # Calculate Precision, Recall, and F1-Score\n",
        "    precision = TP / (TP + FP) if (TP + FP) > 0 else 0\n",
        "    recall = TP / (TP + FN) if (TP + FN) > 0 else 0\n",
        "    f1_score = 2 * (precision * recall) / (precision + recall) if (precision + recall) > 0 else 0\n",
        "\n",
        "    print(f\"Accuracy: {accuracy:.4f}\")\n",
        "    print(f\"Precision: {precision:.4f}\")\n",
        "    print(f\"Recall: {recall:.4f}\")\n",
        "    print(f\"F1-Score: {f1_score:.4f}\")\n",
        "\n",
        "    cm = confusion_matrix(y_true, y_pred)\n",
        "\n",
        "    # Visualize confusion matrix\n",
        "    plt.figure(figsize=(8, 6))\n",
        "    sns.heatmap(cm, annot=True, fmt=\"d\", cmap=\"Blues\",\n",
        "                xticklabels=['Predicted 0', 'Predicted 1'],\n",
        "                yticklabels=['Actual 0', 'Actual 1'])\n",
        "    plt.title('Confusion Matrix')\n",
        "    plt.xlabel('Predicted Label')\n",
        "    plt.ylabel('True Label')\n",
        "    plt.show()\n",
        "\n",
        "    return accuracy, precision, recall, f1_score"
      ],
      "metadata": {
        "colab": {
          "base_uri": "https://localhost:8080/"
        },
        "id": "r-rRjjQz3RX3",
        "outputId": "59502592-b4e6-4e43-b20c-20774edd2da2"
      },
      "execution_count": null,
      "outputs": [
        {
          "output_type": "stream",
          "name": "stdout",
          "text": [
            "Requirement already satisfied: matplotlib in /usr/local/lib/python3.10/dist-packages (3.8.0)\n",
            "Requirement already satisfied: seaborn in /usr/local/lib/python3.10/dist-packages (0.13.2)\n",
            "Requirement already satisfied: contourpy>=1.0.1 in /usr/local/lib/python3.10/dist-packages (from matplotlib) (1.3.1)\n",
            "Requirement already satisfied: cycler>=0.10 in /usr/local/lib/python3.10/dist-packages (from matplotlib) (0.12.1)\n",
            "Requirement already satisfied: fonttools>=4.22.0 in /usr/local/lib/python3.10/dist-packages (from matplotlib) (4.55.0)\n",
            "Requirement already satisfied: kiwisolver>=1.0.1 in /usr/local/lib/python3.10/dist-packages (from matplotlib) (1.4.7)\n",
            "Requirement already satisfied: numpy<2,>=1.21 in /usr/local/lib/python3.10/dist-packages (from matplotlib) (1.26.4)\n",
            "Requirement already satisfied: packaging>=20.0 in /usr/local/lib/python3.10/dist-packages (from matplotlib) (24.2)\n",
            "Requirement already satisfied: pillow>=6.2.0 in /usr/local/lib/python3.10/dist-packages (from matplotlib) (11.0.0)\n",
            "Requirement already satisfied: pyparsing>=2.3.1 in /usr/local/lib/python3.10/dist-packages (from matplotlib) (3.2.0)\n",
            "Requirement already satisfied: python-dateutil>=2.7 in /usr/local/lib/python3.10/dist-packages (from matplotlib) (2.8.2)\n",
            "Requirement already satisfied: pandas>=1.2 in /usr/local/lib/python3.10/dist-packages (from seaborn) (2.2.2)\n",
            "Requirement already satisfied: pytz>=2020.1 in /usr/local/lib/python3.10/dist-packages (from pandas>=1.2->seaborn) (2024.2)\n",
            "Requirement already satisfied: tzdata>=2022.7 in /usr/local/lib/python3.10/dist-packages (from pandas>=1.2->seaborn) (2024.2)\n",
            "Requirement already satisfied: six>=1.5 in /usr/local/lib/python3.10/dist-packages (from python-dateutil>=2.7->matplotlib) (1.16.0)\n"
          ]
        }
      ]
    },
    {
      "cell_type": "code",
      "source": [
        "calculate_metrics(Y_train.flatten(), predictions)"
      ],
      "metadata": {
        "colab": {
          "base_uri": "https://localhost:8080/",
          "height": 703
        },
        "id": "di3FFyaS3XVQ",
        "outputId": "17614bdf-830f-44e3-fbd6-9e108a54fc37"
      },
      "execution_count": null,
      "outputs": [
        {
          "output_type": "stream",
          "name": "stdout",
          "text": [
            "Accuracy: 0.9977\n",
            "Precision: 0.9977\n",
            "Recall: 0.9977\n",
            "F1-Score: 0.9977\n"
          ]
        },
        {
          "output_type": "display_data",
          "data": {
            "text/plain": [
              "<Figure size 800x600 with 2 Axes>"
            ],
            "image/png": "[encoded data removed]"
          },
          "metadata": {}
        },
        {
          "output_type": "execute_result",
          "data": {
            "text/plain": [
              "(0.9976580796252927,\n",
              " 0.9976580796252927,\n",
              " 0.9976580796252927,\n",
              " 0.9976580796252927)"
            ]
          },
          "metadata": {},
          "execution_count": 74
        }
      ]
    },
    {
      "cell_type": "code",
      "source": [],
      "metadata": {
        "id": "G5YJx1aj4Oh3"
      },
      "execution_count": null,
      "outputs": []
    }
  ]
}